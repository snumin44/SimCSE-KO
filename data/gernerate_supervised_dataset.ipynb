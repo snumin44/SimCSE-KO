{
 "cells": [
  {
   "cell_type": "markdown",
   "id": "08b32181-a147-4495-8254-3b770c746951",
   "metadata": {},
   "source": [
    "## Construct Training Data"
   ]
  },
  {
   "cell_type": "markdown",
   "id": "74291350-22af-4f36-8089-5b3d48be906b",
   "metadata": {},
   "source": [
    "### 1. Load Data"
   ]
  },
  {
   "cell_type": "code",
   "execution_count": 1,
   "id": "329987a6-62fd-4a5d-8805-e6ac06469feb",
   "metadata": {},
   "outputs": [],
   "source": [
    "import random\n",
    "import pandas as pd\n",
    "from datasets import load_dataset"
   ]
  },
  {
   "cell_type": "code",
   "execution_count": 2,
   "id": "94bb9cbf-b371-43a5-a16e-b2a03e9eef94",
   "metadata": {},
   "outputs": [],
   "source": [
    "mnli = load_dataset('kakaobrain/kor_nli', 'multi_nli', trust_remote_code=True)"
   ]
  },
  {
   "cell_type": "code",
   "execution_count": 3,
   "id": "225ee8f3-6bdf-41f7-91e6-eb023d31e110",
   "metadata": {},
   "outputs": [],
   "source": [
    "snli = load_dataset('kakaobrain/kor_nli', 'snli', trust_remote_code=True)"
   ]
  },
  {
   "cell_type": "code",
   "execution_count": 4,
   "id": "502b7553-73c3-41e0-9d01-113060a659ea",
   "metadata": {},
   "outputs": [
    {
     "data": {
      "text/plain": [
       "{'premise': '개념적으로 크림 스키밍은 제품과 지리라는 두 가지 기본 차원을 가지고 있다.',\n",
       " 'hypothesis': '제품과 지리학은 크림 스키밍을 작동시키는 것이다.',\n",
       " 'label': 1}"
      ]
     },
     "execution_count": 4,
     "metadata": {},
     "output_type": "execute_result"
    }
   ],
   "source": [
    "mnli['train'][0]"
   ]
  },
  {
   "cell_type": "code",
   "execution_count": 5,
   "id": "9c7fab30-34af-48f1-9697-ebcd8f629e50",
   "metadata": {},
   "outputs": [
    {
     "name": "stdout",
     "output_type": "stream",
     "text": [
      "392702\n",
      "550152\n"
     ]
    }
   ],
   "source": [
    "print(len(mnli['train']))\n",
    "print(len(snli['train']))"
   ]
  },
  {
   "cell_type": "code",
   "execution_count": 6,
   "id": "68dffedc-a9c5-44a8-838a-e5fb673ea1d2",
   "metadata": {},
   "outputs": [],
   "source": [
    "dataset = mnli['train'].to_list() + snli['train'].to_list()"
   ]
  },
  {
   "cell_type": "code",
   "execution_count": 7,
   "id": "075e0881-d911-432f-8f08-38f9293ebce5",
   "metadata": {},
   "outputs": [
    {
     "name": "stdout",
     "output_type": "stream",
     "text": [
      "942854\n"
     ]
    }
   ],
   "source": [
    "print(len(dataset))"
   ]
  },
  {
   "cell_type": "markdown",
   "id": "8c0318b4-f3bf-41bc-a776-8a6e1026f779",
   "metadata": {},
   "source": [
    "### 2. Construct Triplets"
   ]
  },
  {
   "cell_type": "code",
   "execution_count": 8,
   "id": "c872424b-db96-4ac2-9a02-9dfdea6db757",
   "metadata": {},
   "outputs": [],
   "source": [
    "def construct_triplets(samples):\n",
    "    entail_set, contra_set  = {}, {}\n",
    "    for sample in samples:\n",
    "        if sample['label'] == 0: # entailment\n",
    "            entail_set[sample['premise']] = sample['hypothesis']\n",
    "        elif sample['label'] == 2: # contradiction\n",
    "            contra_set[sample['premise']] = sample['hypothesis']\n",
    "\n",
    "    triplet_lst = []\n",
    "    for premise in entail_set.keys():\n",
    "        if premise in contra_set.keys():\n",
    "            entail = entail_set[premise].replace('\\\"', '').replace('\\'', '')\n",
    "            contra = contra_set[premise].replace('\\\"', '').replace('\\'', '')\n",
    "            premise = premise.replace('\\\"', '').replace('\\'', '') \n",
    "            if entail == 'n/a' or contra == 'n/a' or premise == 'n/a':\n",
    "                print('None: ', entail, contra, premise)\n",
    "            else:\n",
    "                triplet = premise + '\\t' + entail + '\\t' + contra\n",
    "                triplet_lst.append(triplet)\n",
    "    return triplet_lst"
   ]
  },
  {
   "cell_type": "code",
   "execution_count": 9,
   "id": "ebd4d682-617e-4392-99af-a6d52d63d8ce",
   "metadata": {},
   "outputs": [
    {
     "name": "stdout",
     "output_type": "stream",
     "text": [
      "None:  n/a n/a 날씨에 따라서든 그렇지 않든\n",
      "None:  n/a n/a 토니 슈즈(그래서 클린턴은 슈즈와 양말을 갖게 될 것이다).\n",
      "None:  n/a n/a 그래, 아니, 네가 아는 그 지역은 아니야. 네가 아는 TI 공장이야. 네가 아는 한, 그들이 무엇을 만들고, 날씨를 제외한 모든 것을.\n",
      "None:  n/a n/a 웨스 위드마이어\n",
      "None:  n/a n/a Vend?me Op?ra Madeleine\n",
      "None:  뭔가 말도 안 돼 n/a 말도 안 되는 소리야.\n",
      "None:  n/a n/a 생제르맹\n",
      "None:  n/a n/a 불륜을 저지르지 마라!\n",
      "None:  n/a n/a AICPA 미국 공인 회계사 APB 회계 원칙 이사회 ARB 회계 연구 게시판 COSO 트레드 웨이위원회 조직위원회 FAS 재무 회계 기준 FASB 재무 회계 기준위원회 FASAB 연방 회계 기준 자문위원회 FIN FASB Interpertation Form &amp; Content OMB Bulletin 97-01 , 1996 년 10 월 16 일 발행 GAO 일반 회계 사무소 NAA 전국 회계사 협회 OMB 관리 및 예산 사무국 SEC 증권 거래위원회 SFFAC 연방 재무 회계 개념 명세서 SFFAS 연방 재무 회계 표준 명세서 SOP 포지션 명세서\n",
      "None:  n/a n/a 비엔나 소음 합창단\n",
      "None:  n/a n/a 7. Soderstrom CA, Smith GS, Dischinger PC, McDuff DR, Hebel JR, Gorelick DA 등\n",
      "None:  n/a n/a 원주민 내가 이기고, 나는 큰 법을 어기고...\n",
      "None:  n/a n/a 우편요금은 개인용 컴퓨터를 소유하고 있는지 여부입니다.\n",
      "None:  n/a n/a 국제통제연방정부(GAO/AIMD99)의 표준\n",
      "None:  n/a n/a 보라색 공으로 점프하는 것은 정말 재미있어요!\n"
     ]
    }
   ],
   "source": [
    "triplets = construct_triplets(dataset)"
   ]
  },
  {
   "cell_type": "code",
   "execution_count": 10,
   "id": "452bb319-8041-4a1b-bcb6-9cdbe6b33bfe",
   "metadata": {},
   "outputs": [
    {
     "data": {
      "text/plain": [
       "['시즌 중에 알고 있는 거 알아? 네 레벨에서 다음 레벨로 잃어버리는 거야 브레이브스가 모팀을 떠올리기로 결정하면 브레이브스가 트리플 A에서 한 남자를 떠올리기로 결정하면 더블 A가 그를 대신하러 올라가고 A 한 명이 그를 대신하러 올라간다.\\t사람들이 기억하면 다음 수준으로 물건을 잃는다.\\t그들은 어떤 일에도 리콜을 하지 않는다.',\n",
       " '우리 번호 중 하나가 당신의 지시를 세밀하게 수행할 것이다.\\t우리 팀의 일원이 당신의 명령을 엄청나게 정확하게 실행할 것이다.\\t우리는 지금 아무도 자유롭지 않기 때문에 네가 직접 조치를 취해야 한다.',\n",
       " '어떻게 아세요? 이 모든 것이 다시 그들의 정보다.\\t이 정보는 그들의 것이다.\\t그들은 전혀 정보가 없다.']"
      ]
     },
     "execution_count": 10,
     "metadata": {},
     "output_type": "execute_result"
    }
   ],
   "source": [
    "triplets[:3]"
   ]
  },
  {
   "cell_type": "code",
   "execution_count": 11,
   "id": "949b1580-5b87-4432-8030-8d1fc0792ef3",
   "metadata": {},
   "outputs": [
    {
     "name": "stdout",
     "output_type": "stream",
     "text": [
      "277811\n"
     ]
    }
   ],
   "source": [
    "print(len(triplets))"
   ]
  },
  {
   "cell_type": "markdown",
   "id": "50c9473f-4f70-48cf-af3d-497dbafb7fe0",
   "metadata": {},
   "source": [
    "### 3. Save to CSV"
   ]
  },
  {
   "cell_type": "code",
   "execution_count": 12,
   "id": "cdaccb44-bebb-4de9-bc42-b96379a15f29",
   "metadata": {},
   "outputs": [],
   "source": [
    "def save_to_csv(triplets, path):\n",
    "    with open(path, 'w') as file:\n",
    "        file.write('sent0\\tsent1\\thard_neg\\n')\n",
    "        file.write('\\n'.join(triplets))"
   ]
  },
  {
   "cell_type": "code",
   "execution_count": 13,
   "id": "97236e85-f07b-4fb3-97f5-e7bb0037ba9f",
   "metadata": {},
   "outputs": [],
   "source": [
    "save_to_csv(triplets, 'kor_nli_triplets.csv')"
   ]
  },
  {
   "cell_type": "code",
   "execution_count": 14,
   "id": "86823736-eeb9-419f-94ac-9f1e4a8c2ea6",
   "metadata": {},
   "outputs": [],
   "source": [
    "train_df = pd.read_csv('kor_nli_triplets.csv', sep='\\t')"
   ]
  },
  {
   "cell_type": "code",
   "execution_count": 15,
   "id": "dc372a7b-9e76-45f3-9cc1-13bb3517b647",
   "metadata": {},
   "outputs": [
    {
     "data": {
      "text/html": [
       "<div>\n",
       "<style scoped>\n",
       "    .dataframe tbody tr th:only-of-type {\n",
       "        vertical-align: middle;\n",
       "    }\n",
       "\n",
       "    .dataframe tbody tr th {\n",
       "        vertical-align: top;\n",
       "    }\n",
       "\n",
       "    .dataframe thead th {\n",
       "        text-align: right;\n",
       "    }\n",
       "</style>\n",
       "<table border=\"1\" class=\"dataframe\">\n",
       "  <thead>\n",
       "    <tr style=\"text-align: right;\">\n",
       "      <th></th>\n",
       "      <th>sent0</th>\n",
       "      <th>sent1</th>\n",
       "      <th>hard_neg</th>\n",
       "    </tr>\n",
       "  </thead>\n",
       "  <tbody>\n",
       "    <tr>\n",
       "      <th>0</th>\n",
       "      <td>시즌 중에 알고 있는 거 알아? 네 레벨에서 다음 레벨로 잃어버리는 거야 브레이브스...</td>\n",
       "      <td>사람들이 기억하면 다음 수준으로 물건을 잃는다.</td>\n",
       "      <td>그들은 어떤 일에도 리콜을 하지 않는다.</td>\n",
       "    </tr>\n",
       "    <tr>\n",
       "      <th>1</th>\n",
       "      <td>우리 번호 중 하나가 당신의 지시를 세밀하게 수행할 것이다.</td>\n",
       "      <td>우리 팀의 일원이 당신의 명령을 엄청나게 정확하게 실행할 것이다.</td>\n",
       "      <td>우리는 지금 아무도 자유롭지 않기 때문에 네가 직접 조치를 취해야 한다.</td>\n",
       "    </tr>\n",
       "    <tr>\n",
       "      <th>2</th>\n",
       "      <td>어떻게 아세요? 이 모든 것이 다시 그들의 정보다.</td>\n",
       "      <td>이 정보는 그들의 것이다.</td>\n",
       "      <td>그들은 전혀 정보가 없다.</td>\n",
       "    </tr>\n",
       "    <tr>\n",
       "      <th>3</th>\n",
       "      <td>내 워커가 고장나서 지금 화가 났어. 스테레오를 정말 크게 틀어야 해.</td>\n",
       "      <td>나는 내 워크맨이 고장나서 화가 나서 이제 스테레오를 정말 크게 틀어야 한다.</td>\n",
       "      <td>내 워크맨은 여전히 항상 그랬던 것처럼 잘 작동한다.</td>\n",
       "    </tr>\n",
       "    <tr>\n",
       "      <th>4</th>\n",
       "      <td>(슬레이트에 대한 읽기는 잭슨의 연구 결과를 받아들인다.)</td>\n",
       "      <td>슬레이트는 잭슨의 발견에 대해 의견을 가지고 있었다.</td>\n",
       "      <td>슬레이트는 잭슨의 발견에 대해 아무런 의견도 갖고 있지 않았다.</td>\n",
       "    </tr>\n",
       "  </tbody>\n",
       "</table>\n",
       "</div>"
      ],
      "text/plain": [
       "                                               sent0  \\\n",
       "0  시즌 중에 알고 있는 거 알아? 네 레벨에서 다음 레벨로 잃어버리는 거야 브레이브스...   \n",
       "1                  우리 번호 중 하나가 당신의 지시를 세밀하게 수행할 것이다.   \n",
       "2                       어떻게 아세요? 이 모든 것이 다시 그들의 정보다.   \n",
       "3            내 워커가 고장나서 지금 화가 났어. 스테레오를 정말 크게 틀어야 해.   \n",
       "4                   (슬레이트에 대한 읽기는 잭슨의 연구 결과를 받아들인다.)   \n",
       "\n",
       "                                         sent1  \\\n",
       "0                   사람들이 기억하면 다음 수준으로 물건을 잃는다.   \n",
       "1         우리 팀의 일원이 당신의 명령을 엄청나게 정확하게 실행할 것이다.   \n",
       "2                               이 정보는 그들의 것이다.   \n",
       "3  나는 내 워크맨이 고장나서 화가 나서 이제 스테레오를 정말 크게 틀어야 한다.   \n",
       "4                슬레이트는 잭슨의 발견에 대해 의견을 가지고 있었다.   \n",
       "\n",
       "                                   hard_neg  \n",
       "0                    그들은 어떤 일에도 리콜을 하지 않는다.  \n",
       "1  우리는 지금 아무도 자유롭지 않기 때문에 네가 직접 조치를 취해야 한다.  \n",
       "2                            그들은 전혀 정보가 없다.  \n",
       "3             내 워크맨은 여전히 항상 그랬던 것처럼 잘 작동한다.  \n",
       "4       슬레이트는 잭슨의 발견에 대해 아무런 의견도 갖고 있지 않았다.  "
      ]
     },
     "execution_count": 15,
     "metadata": {},
     "output_type": "execute_result"
    }
   ],
   "source": [
    "train_df.head()"
   ]
  },
  {
   "cell_type": "code",
   "execution_count": 16,
   "id": "e8846cc8-b24f-4f32-992c-36a36f9c61e2",
   "metadata": {},
   "outputs": [],
   "source": [
    "null = train_df[train_df.isnull().any(axis=1)]"
   ]
  },
  {
   "cell_type": "code",
   "execution_count": 17,
   "id": "d264969b-0e32-4b4c-b26c-f486c737038c",
   "metadata": {},
   "outputs": [
    {
     "data": {
      "text/plain": [
       "Series([], Name: sent1, dtype: object)"
      ]
     },
     "execution_count": 17,
     "metadata": {},
     "output_type": "execute_result"
    }
   ],
   "source": [
    "null['sent1'] "
   ]
  },
  {
   "cell_type": "code",
   "execution_count": null,
   "id": "a2c03c6d-03fb-4453-87fd-10c71d922adb",
   "metadata": {},
   "outputs": [],
   "source": []
  }
 ],
 "metadata": {
  "kernelspec": {
   "display_name": "Python 3 (ipykernel)",
   "language": "python",
   "name": "python3"
  },
  "language_info": {
   "codemirror_mode": {
    "name": "ipython",
    "version": 3
   },
   "file_extension": ".py",
   "mimetype": "text/x-python",
   "name": "python",
   "nbconvert_exporter": "python",
   "pygments_lexer": "ipython3",
   "version": "3.8.19"
  }
 },
 "nbformat": 4,
 "nbformat_minor": 5
}
